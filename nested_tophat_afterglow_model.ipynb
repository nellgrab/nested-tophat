{
 "cells": [
  {
   "cell_type": "code",
   "execution_count": 1,
   "metadata": {},
   "outputs": [
    {
     "name": "stderr",
     "output_type": "stream",
     "text": [
      "No module named 'lalsimulation'\n",
      "lalsimulation is not installed. Some EOS based models will not work. Please use bilby eos or pass your own EOS generation class to the model\n",
      "12:15 bilby INFO    : Running bilby version: 2.3.0\n",
      "12:15 redback INFO    : Running redback version: 1.0.2\n"
     ]
    }
   ],
   "source": [
    "import redback \n",
    "from redback.transient_models.afterglow_models import tophat\n",
    "from redback.simulate_transients import SimulateOpticalTransient \n",
    "import pandas as pd\n",
    "import numpy as np \n",
    "import matplotlib.pyplot as plt \n",
    "import matplotlib.lines as mlines\n",
    "from matplotlib.lines import Line2D\n",
    "from astropy.cosmology import Planck18 as cosmo\n",
    "from matplotlib import rcParams\n",
    "\n",
    "# Disable LaTeX rendering\n",
    "rcParams['text.usetex'] = False\n",
    "rcParams['font.family'] = 'sans-serif'\n",
    "rcParams['font.sans-serif'] = ['Arial']  # Use Arial or any other available sans-serif font\n",
    "\n",
    "import scipy.optimize as scipy\n",
    "from scipy import stats\n",
    "import math \n",
    "import bilby\n",
    "from bilby.core.prior import Uniform\n",
    "\n",
    "from inspect import isfunction\n",
    "from redback.utils import logger, citation_wrapper, calc_ABmag_from_flux_density, lambda_to_nu\n",
    "from redback.constants import day_to_s, speed_of_light, solar_mass, proton_mass, electron_mass, sigma_T\n",
    "from redback.sed import get_correct_output_format_from_spectra\n",
    "import astropy.units as uu\n",
    "import numpy as np\n",
    "from collections import namedtuple\n",
    "from scipy.special import erf\n",
    "from scipy.interpolate import interp1d\n",
    "import afterglowpy as afterglow\n"
   ]
  },
  {
   "cell_type": "code",
   "execution_count": 4,
   "metadata": {},
   "outputs": [
    {
     "name": "stderr",
     "output_type": "stream",
     "text": [
      "12:15 redback INFO    : Metadata does not exist for this event.\n",
      "12:15 redback INFO    : Setting metadata to None. This is not an error, but a warning that no metadata could be found online.\n"
     ]
    },
    {
     "name": "stdout",
     "output_type": "stream",
     "text": [
      "Time : 300\n",
      "Frequency : 300\n",
      "Flux Density : 300\n",
      "Flux Density Error : 300\n"
     ]
    },
    {
     "data": {
      "text/plain": [
       "\" afterglow.plot_data \\n\\nresult = redback.fit_model(model=model, sampler='dynesty', nlive=200, transient=afterglow,\\n                           prior=priors, sample='rslice', resume=False)\\n\\nresult.plot_lightcurve(model=nested_tophat, time=afterglow.time, frequency=afterglow.frequency,  p=result.median['p'], redshift=redshift, name=name, save=True, show=True) \""
      ]
     },
     "execution_count": 4,
     "metadata": {},
     "output_type": "execute_result"
    }
   ],
   "source": [
    "model = 'nested tophat'\n",
    "name = 'GRB221009A'\n",
    "redshift = 1.151\n",
    "\n",
    "#read in data from csv files for each band\n",
    "#figure out x ray columns ???\n",
    "#x_ray_data = pd.read_csv('/Users/helenagrabham/SUMMER INTERNSHIP/filters data/XRT_10keV_191223.txt', sep = '\\t', header = None, names = ['time', 'flux', 'flux_err', 'frequency'])\n",
    "radio_data = pd.read_csv('/Users/helenagrabham/SUMMER INTERNSHIP/filters data/radio_data_2.csv')  \n",
    "radio_data_2 = pd.read_csv('/Users/helenagrabham/SUMMER INTERNSHIP/filters data/newradio_data.csv')\n",
    "\n",
    "#discrepancy between uJy and mJy units in radio data uJy x10^3 = mJy\n",
    "time= radio_data['Midtime '].values\n",
    "flux_density = radio_data['Flux Density uJy'].values/1e3\n",
    "flux_density_err = radio_data['Flux Density Error uJy'].values /1e3\n",
    "frequency = radio_data['Frequency Hz'].values\n",
    "\n",
    "\n",
    "time = np.concatenate((time, radio_data_2[' time-t0'].values))\n",
    "flux_density = np.concatenate((flux_density, radio_data_2[' Flux density (mJy)'].values))\n",
    "flux_density_err = np.concatenate((flux_density_err, radio_data_2[' err (mJy)'].values))\n",
    "frequency = np.concatenate((frequency, radio_data_2['Frequency Hz'].values))\n",
    "\n",
    "\n",
    "print(f\"Time : {len(time)}\")\n",
    "print(f\"Frequency : {len(frequency)}\")\n",
    "print(f\"Flux Density : {len(flux_density)}\")\n",
    "print(f\"Flux Density Error : {len(flux_density_err)}\")\n",
    "\n",
    "\n",
    "afterglow = redback.transient.Afterglow(name=name, data_mode = 'flux_density', time = time, \n",
    "                                        flux_density = flux_density, flux_density_err = flux_density_err, \n",
    "                                        frequency = frequency,  redshift=redshift, model=model)\n",
    "\n",
    "\n",
    "# Define the model\n",
    "def nested_tophat(time, nu, p, **kwargs):\n",
    "    return afterglow.flux_density(time, nu, p, **kwargs)\n",
    "\n",
    "model = nested_tophat\n",
    "name = 'GRB221009A'\n",
    "redshift = 1.151\n",
    "\n",
    "\"\"\" #Define parameters \n",
    "thc = \n",
    "\n",
    "# Define the priors\n",
    "priors = dict()\n",
    "priors['p'] = Uniform(0, 1e-3, name='p')\n",
    "priors['g0'] =\n",
    "priors['logepse'] =\n",
    "priors['logepsb'] = \n",
    "priors['xiN'] =  \"\"\"\n",
    "\n",
    "\n",
    "\"\"\" afterglow.plot_data \n",
    "\n",
    "result = redback.fit_model(model=model, sampler='dynesty', nlive=200, transient=afterglow,\n",
    "                           prior=priors, sample='rslice', resume=False)\n",
    "\n",
    "result.plot_lightcurve(model=nested_tophat, time=afterglow.time, frequency=afterglow.frequency,  p=result.median['p'], redshift=redshift, name=name, save=True, show=True) \"\"\""
   ]
  },
  {
   "cell_type": "markdown",
   "metadata": {},
   "source": []
  },
  {
   "cell_type": "code",
   "execution_count": 6,
   "metadata": {},
   "outputs": [
    {
     "name": "stdout",
     "output_type": "stream",
     "text": [
      "Data with new frequency column:\n",
      "       time  t_err  -t_err      flux  flux_err  -flux_err     Frequency\n",
      "0  3376.254  2.759  -2.846  0.001537  0.000065  -0.000065  2.000000e+18\n",
      "1  3381.482  2.355  -2.470  0.001462  0.000060  -0.000060  2.000000e+18\n",
      "2  3386.421  2.593  -2.584  0.001781  0.000073  -0.000073  2.000000e+18\n",
      "1603\n",
      "1603\n",
      "1603\n",
      "1603\n",
      "Time : 3506\n",
      "Frequency : 3506\n",
      "Flux Density : 3506\n",
      "Flux Density Error : 3506\n"
     ]
    }
   ],
   "source": [
    "\n",
    "x_ray_data = pd.read_csv('/Users/helenagrabham/SUMMER INTERNSHIP/filters data/XRT_10keV_191223.txt',\n",
    "                          sep = '\\t', header = None , names = ['time', 't_err', '-t_err', 'flux', 'flux_err', '-flux_err'])\n",
    "#print(x_ray_data.head(3))\n",
    "# Add the new frequency column\n",
    "x_ray_data['Frequency'] = 2e18\n",
    "\n",
    "print(\"Data with new frequency column:\")\n",
    "      \n",
    "output = '/Users/helenagrabham/SUMMER INTERNSHIP/filters data/XRT_10keV_191223.csv'\n",
    "x_ray_data.to_csv(output, index = False, header = True)\n",
    "\n",
    "#x_ray_data.columns = ['time', 't_err', '-t_err', 'flux', 'flux_err', '-flux_err']\n",
    "print(x_ray_data.head(3))\n",
    "\n",
    "csv_data = pd.read_csv(output)\n",
    "print(len(csv_data['time'].values))\n",
    "print(len(csv_data['flux'].values))\n",
    "print(len(csv_data['flux_err'].values))\n",
    "print(len(csv_data['Frequency'].values))\n",
    "#extract variables from larger dataframes and add to numpy arrays for individual variables \n",
    "#concatenate - two arrays \n",
    "#append - array + item \n",
    "time = np.append(time, csv_data['time'].values)\n",
    "flux_density = np.append(flux_density, csv_data['flux'].values)\n",
    "flux_density_err = np.append(flux_density_err, csv_data['flux_err'].values)\n",
    "frequency = np.append(frequency, csv_data['Frequency'].values)\n",
    "\n",
    "print(f\"Time : {len(time)}\")\n",
    "print(f\"Frequency : {len(frequency)}\")\n",
    "print(f\"Flux Density : {len(flux_density)}\")\n",
    "print(f\"Flux Density Error : {len(flux_density_err)}\")"
   ]
  },
  {
   "cell_type": "code",
   "execution_count": null,
   "metadata": {},
   "outputs": [],
   "source": [
    "afterglow.plot_data()\n",
    "\n",
    "# You need to create your own priors for this new model.\n",
    "# The model has two parameters l0 and alpha. We use bilby priors for this\n",
    "priors = bilby.core.prior.PriorDict()\n",
    "\n",
    "\n",
    "# Call redback.fit_model to run the sampler and obtain GRB result object\n",
    "result = redback.fit_model(model=model, sampler='dynesty', nlive=200, transient=afterglow,\n",
    "                           prior=priors, sample='rslice', resume=False)\n"
   ]
  },
  {
   "cell_type": "code",
   "execution_count": null,
   "metadata": {},
   "outputs": [],
   "source": [
    "#uJy ---> mJy\n",
    "# 0.001 --> 0.000001 \n",
    "#divide not multiply \n",
    "\n",
    "#column for frequency 2e18 \n",
    "\n",
    "#time, error on time, flux density, error on fklux density, frequency column with all one value "
   ]
  }
 ],
 "metadata": {
  "kernelspec": {
   "display_name": "redback",
   "language": "python",
   "name": "python3"
  },
  "language_info": {
   "codemirror_mode": {
    "name": "ipython",
    "version": 3
   },
   "file_extension": ".py",
   "mimetype": "text/x-python",
   "name": "python",
   "nbconvert_exporter": "python",
   "pygments_lexer": "ipython3",
   "version": "3.12.3"
  }
 },
 "nbformat": 4,
 "nbformat_minor": 2
}
